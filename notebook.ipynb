{
 "cells": [
  {
   "cell_type": "code",
   "execution_count": 1,
   "metadata": {},
   "outputs": [
    {
     "name": "stdout",
     "output_type": "stream",
     "text": [
      "page_content='Symbol: MMM\n",
      "Name: 3M Company\n",
      "Sector: Industrials\n",
      "Price: 222.89\n",
      "Price/Earnings: 24.31\n",
      "Dividend Yield: 2.3328617\n",
      "Earnings/Share: 7.92\n",
      "52 Week Low: 259.77\n",
      "52 Week High: 175.49\n",
      "Market Cap: 138721055226\n",
      "EBITDA: 9048000000\n",
      "Price/Sales: 4.3902707\n",
      "Price/Book: 11.34\n",
      "SEC Filings: http://www.sec.gov/cgi-bin/browse-edgar?action=getcompany&CIK=MMM' metadata={'source': './data/constituents-financials.csv', 'row': 0}\n",
      "page_content='Symbol: AOS\n",
      "Name: A.O. Smith Corp\n",
      "Sector: Industrials\n",
      "Price: 60.24\n",
      "Price/Earnings: 27.76\n",
      "Dividend Yield: 1.1479592\n",
      "Earnings/Share: 1.7\n",
      "52 Week Low: 68.39\n",
      "52 Week High: 48.925\n",
      "Market Cap: 10783419933\n",
      "EBITDA: 601000000\n",
      "Price/Sales: 3.5754826\n",
      "Price/Book: 6.35\n",
      "SEC Filings: http://www.sec.gov/cgi-bin/browse-edgar?action=getcompany&CIK=AOS' metadata={'source': './data/constituents-financials.csv', 'row': 1}\n"
     ]
    }
   ],
   "source": [
    "from langchain_community.document_loaders.csv_loader import CSVLoader\n",
    "\n",
    "file_path = \"./data/constituents-financials.csv\"\n",
    "\n",
    "loader = CSVLoader(file_path=file_path)\n",
    "data = loader.load()\n",
    "\n",
    "for record in data[:2]:\n",
    "    print(record)"
   ]
  }
 ],
 "metadata": {
  "kernelspec": {
   "display_name": "venv",
   "language": "python",
   "name": "python3"
  },
  "language_info": {
   "codemirror_mode": {
    "name": "ipython",
    "version": 3
   },
   "file_extension": ".py",
   "mimetype": "text/x-python",
   "name": "python",
   "nbconvert_exporter": "python",
   "pygments_lexer": "ipython3",
   "version": "3.10.11"
  }
 },
 "nbformat": 4,
 "nbformat_minor": 2
}
